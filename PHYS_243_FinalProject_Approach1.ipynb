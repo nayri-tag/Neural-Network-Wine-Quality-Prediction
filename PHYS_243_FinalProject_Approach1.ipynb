{
 "cells": [
  {
   "cell_type": "markdown",
   "id": "095dd92b",
   "metadata": {},
   "source": [
    "# Steven Acevez 862397425"
   ]
  },
  {
   "cell_type": "markdown",
   "id": "a0c09eeb",
   "metadata": {},
   "source": [
    "# Kenny Courser 861136315 "
   ]
  },
  {
   "cell_type": "markdown",
   "id": "82a0842e",
   "metadata": {},
   "source": [
    "# Nayri Tagmazian 861260091"
   ]
  },
  {
   "cell_type": "markdown",
   "id": "b336548d",
   "metadata": {},
   "source": [
    "# Physics 243 Final Project Code"
   ]
  },
  {
   "cell_type": "code",
   "execution_count": 1,
   "id": "11f701f9",
   "metadata": {},
   "outputs": [
    {
     "name": "stderr",
     "output_type": "stream",
     "text": [
      "2023-08-24 00:14:42.082182: I tensorflow/core/platform/cpu_feature_guard.cc:193] This TensorFlow binary is optimized with oneAPI Deep Neural Network Library (oneDNN) to use the following CPU instructions in performance-critical operations:  AVX2 FMA\n",
      "To enable them in other operations, rebuild TensorFlow with the appropriate compiler flags.\n"
     ]
    }
   ],
   "source": [
    "import numpy as np\n",
    "import pandas as pd\n",
    "import matplotlib.pyplot as plt\n",
    "import seaborn as sns\n",
    "\n",
    "from imblearn.over_sampling import SMOTE\n",
    "\n",
    "from sklearn.model_selection import train_test_split\n",
    "from sklearn.preprocessing import StandardScaler\n",
    "\n",
    "import tensorflow as tf\n",
    "from tensorflow import keras\n",
    "from keras.utils import to_categorical\n",
    "from keras.wrappers.scikit_learn import KerasClassifier\n",
    "from sklearn.metrics import make_scorer, accuracy_score\n",
    "from sklearn.model_selection import RandomizedSearchCV\n",
    "from tensorflow.keras.models import Sequential\n",
    "from tensorflow.keras.layers import Dense, Flatten\n",
    "from tensorflow.keras.optimizers import Adam, SGD, Adagrad, Adadelta, RMSprop\n",
    "from tensorflow.keras.metrics import Accuracy, CategoricalAccuracy, SparseCategoricalAccuracy\n",
    "\n",
    "import warnings\n",
    "warnings.filterwarnings('ignore')"
   ]
  },
  {
   "cell_type": "code",
   "execution_count": 2,
   "id": "e10c09d3",
   "metadata": {},
   "outputs": [
    {
     "data": {
      "text/html": [
       "<div>\n",
       "<style scoped>\n",
       "    .dataframe tbody tr th:only-of-type {\n",
       "        vertical-align: middle;\n",
       "    }\n",
       "\n",
       "    .dataframe tbody tr th {\n",
       "        vertical-align: top;\n",
       "    }\n",
       "\n",
       "    .dataframe thead th {\n",
       "        text-align: right;\n",
       "    }\n",
       "</style>\n",
       "<table border=\"1\" class=\"dataframe\">\n",
       "  <thead>\n",
       "    <tr style=\"text-align: right;\">\n",
       "      <th></th>\n",
       "      <th>fixed acidity</th>\n",
       "      <th>volatile acidity</th>\n",
       "      <th>citric acid</th>\n",
       "      <th>residual sugar</th>\n",
       "      <th>chlorides</th>\n",
       "      <th>free sulfur dioxide</th>\n",
       "      <th>total sulfur dioxide</th>\n",
       "      <th>density</th>\n",
       "      <th>pH</th>\n",
       "      <th>sulphates</th>\n",
       "      <th>alcohol</th>\n",
       "      <th>quality</th>\n",
       "      <th>Id</th>\n",
       "    </tr>\n",
       "  </thead>\n",
       "  <tbody>\n",
       "    <tr>\n",
       "      <th>0</th>\n",
       "      <td>7.4</td>\n",
       "      <td>0.70</td>\n",
       "      <td>0.00</td>\n",
       "      <td>1.9</td>\n",
       "      <td>0.076</td>\n",
       "      <td>11.0</td>\n",
       "      <td>34.0</td>\n",
       "      <td>0.9978</td>\n",
       "      <td>3.51</td>\n",
       "      <td>0.56</td>\n",
       "      <td>9.4</td>\n",
       "      <td>5</td>\n",
       "      <td>0</td>\n",
       "    </tr>\n",
       "    <tr>\n",
       "      <th>1</th>\n",
       "      <td>7.8</td>\n",
       "      <td>0.88</td>\n",
       "      <td>0.00</td>\n",
       "      <td>2.6</td>\n",
       "      <td>0.098</td>\n",
       "      <td>25.0</td>\n",
       "      <td>67.0</td>\n",
       "      <td>0.9968</td>\n",
       "      <td>3.20</td>\n",
       "      <td>0.68</td>\n",
       "      <td>9.8</td>\n",
       "      <td>5</td>\n",
       "      <td>1</td>\n",
       "    </tr>\n",
       "    <tr>\n",
       "      <th>2</th>\n",
       "      <td>7.8</td>\n",
       "      <td>0.76</td>\n",
       "      <td>0.04</td>\n",
       "      <td>2.3</td>\n",
       "      <td>0.092</td>\n",
       "      <td>15.0</td>\n",
       "      <td>54.0</td>\n",
       "      <td>0.9970</td>\n",
       "      <td>3.26</td>\n",
       "      <td>0.65</td>\n",
       "      <td>9.8</td>\n",
       "      <td>5</td>\n",
       "      <td>2</td>\n",
       "    </tr>\n",
       "    <tr>\n",
       "      <th>3</th>\n",
       "      <td>11.2</td>\n",
       "      <td>0.28</td>\n",
       "      <td>0.56</td>\n",
       "      <td>1.9</td>\n",
       "      <td>0.075</td>\n",
       "      <td>17.0</td>\n",
       "      <td>60.0</td>\n",
       "      <td>0.9980</td>\n",
       "      <td>3.16</td>\n",
       "      <td>0.58</td>\n",
       "      <td>9.8</td>\n",
       "      <td>6</td>\n",
       "      <td>3</td>\n",
       "    </tr>\n",
       "    <tr>\n",
       "      <th>4</th>\n",
       "      <td>7.4</td>\n",
       "      <td>0.70</td>\n",
       "      <td>0.00</td>\n",
       "      <td>1.9</td>\n",
       "      <td>0.076</td>\n",
       "      <td>11.0</td>\n",
       "      <td>34.0</td>\n",
       "      <td>0.9978</td>\n",
       "      <td>3.51</td>\n",
       "      <td>0.56</td>\n",
       "      <td>9.4</td>\n",
       "      <td>5</td>\n",
       "      <td>4</td>\n",
       "    </tr>\n",
       "  </tbody>\n",
       "</table>\n",
       "</div>"
      ],
      "text/plain": [
       "   fixed acidity  volatile acidity  citric acid  residual sugar  chlorides  \\\n",
       "0            7.4              0.70         0.00             1.9      0.076   \n",
       "1            7.8              0.88         0.00             2.6      0.098   \n",
       "2            7.8              0.76         0.04             2.3      0.092   \n",
       "3           11.2              0.28         0.56             1.9      0.075   \n",
       "4            7.4              0.70         0.00             1.9      0.076   \n",
       "\n",
       "   free sulfur dioxide  total sulfur dioxide  density    pH  sulphates  \\\n",
       "0                 11.0                  34.0   0.9978  3.51       0.56   \n",
       "1                 25.0                  67.0   0.9968  3.20       0.68   \n",
       "2                 15.0                  54.0   0.9970  3.26       0.65   \n",
       "3                 17.0                  60.0   0.9980  3.16       0.58   \n",
       "4                 11.0                  34.0   0.9978  3.51       0.56   \n",
       "\n",
       "   alcohol  quality  Id  \n",
       "0      9.4        5   0  \n",
       "1      9.8        5   1  \n",
       "2      9.8        5   2  \n",
       "3      9.8        6   3  \n",
       "4      9.4        5   4  "
      ]
     },
     "execution_count": 2,
     "metadata": {},
     "output_type": "execute_result"
    }
   ],
   "source": [
    "df = pd.read_csv('WineQT.csv')\n",
    "df.head()"
   ]
  },
  {
   "cell_type": "code",
   "execution_count": 3,
   "id": "39704657",
   "metadata": {},
   "outputs": [],
   "source": [
    "df = df.drop('Id', axis=1)"
   ]
  },
  {
   "cell_type": "code",
   "execution_count": 4,
   "id": "9771d2c3",
   "metadata": {},
   "outputs": [
    {
     "data": {
      "text/html": [
       "<div>\n",
       "<style scoped>\n",
       "    .dataframe tbody tr th:only-of-type {\n",
       "        vertical-align: middle;\n",
       "    }\n",
       "\n",
       "    .dataframe tbody tr th {\n",
       "        vertical-align: top;\n",
       "    }\n",
       "\n",
       "    .dataframe thead th {\n",
       "        text-align: right;\n",
       "    }\n",
       "</style>\n",
       "<table border=\"1\" class=\"dataframe\">\n",
       "  <thead>\n",
       "    <tr style=\"text-align: right;\">\n",
       "      <th></th>\n",
       "      <th>fixed acidity</th>\n",
       "      <th>volatile acidity</th>\n",
       "      <th>citric acid</th>\n",
       "      <th>residual sugar</th>\n",
       "      <th>chlorides</th>\n",
       "      <th>free sulfur dioxide</th>\n",
       "      <th>total sulfur dioxide</th>\n",
       "      <th>density</th>\n",
       "      <th>pH</th>\n",
       "      <th>sulphates</th>\n",
       "      <th>alcohol</th>\n",
       "      <th>quality</th>\n",
       "    </tr>\n",
       "  </thead>\n",
       "  <tbody>\n",
       "    <tr>\n",
       "      <th>0</th>\n",
       "      <td>7.4</td>\n",
       "      <td>0.70</td>\n",
       "      <td>0.00</td>\n",
       "      <td>1.9</td>\n",
       "      <td>0.076</td>\n",
       "      <td>11.0</td>\n",
       "      <td>34.0</td>\n",
       "      <td>0.9978</td>\n",
       "      <td>3.51</td>\n",
       "      <td>0.56</td>\n",
       "      <td>9.4</td>\n",
       "      <td>5</td>\n",
       "    </tr>\n",
       "    <tr>\n",
       "      <th>1</th>\n",
       "      <td>7.8</td>\n",
       "      <td>0.88</td>\n",
       "      <td>0.00</td>\n",
       "      <td>2.6</td>\n",
       "      <td>0.098</td>\n",
       "      <td>25.0</td>\n",
       "      <td>67.0</td>\n",
       "      <td>0.9968</td>\n",
       "      <td>3.20</td>\n",
       "      <td>0.68</td>\n",
       "      <td>9.8</td>\n",
       "      <td>5</td>\n",
       "    </tr>\n",
       "    <tr>\n",
       "      <th>2</th>\n",
       "      <td>7.8</td>\n",
       "      <td>0.76</td>\n",
       "      <td>0.04</td>\n",
       "      <td>2.3</td>\n",
       "      <td>0.092</td>\n",
       "      <td>15.0</td>\n",
       "      <td>54.0</td>\n",
       "      <td>0.9970</td>\n",
       "      <td>3.26</td>\n",
       "      <td>0.65</td>\n",
       "      <td>9.8</td>\n",
       "      <td>5</td>\n",
       "    </tr>\n",
       "    <tr>\n",
       "      <th>3</th>\n",
       "      <td>11.2</td>\n",
       "      <td>0.28</td>\n",
       "      <td>0.56</td>\n",
       "      <td>1.9</td>\n",
       "      <td>0.075</td>\n",
       "      <td>17.0</td>\n",
       "      <td>60.0</td>\n",
       "      <td>0.9980</td>\n",
       "      <td>3.16</td>\n",
       "      <td>0.58</td>\n",
       "      <td>9.8</td>\n",
       "      <td>6</td>\n",
       "    </tr>\n",
       "    <tr>\n",
       "      <th>4</th>\n",
       "      <td>7.4</td>\n",
       "      <td>0.70</td>\n",
       "      <td>0.00</td>\n",
       "      <td>1.9</td>\n",
       "      <td>0.076</td>\n",
       "      <td>11.0</td>\n",
       "      <td>34.0</td>\n",
       "      <td>0.9978</td>\n",
       "      <td>3.51</td>\n",
       "      <td>0.56</td>\n",
       "      <td>9.4</td>\n",
       "      <td>5</td>\n",
       "    </tr>\n",
       "  </tbody>\n",
       "</table>\n",
       "</div>"
      ],
      "text/plain": [
       "   fixed acidity  volatile acidity  citric acid  residual sugar  chlorides  \\\n",
       "0            7.4              0.70         0.00             1.9      0.076   \n",
       "1            7.8              0.88         0.00             2.6      0.098   \n",
       "2            7.8              0.76         0.04             2.3      0.092   \n",
       "3           11.2              0.28         0.56             1.9      0.075   \n",
       "4            7.4              0.70         0.00             1.9      0.076   \n",
       "\n",
       "   free sulfur dioxide  total sulfur dioxide  density    pH  sulphates  \\\n",
       "0                 11.0                  34.0   0.9978  3.51       0.56   \n",
       "1                 25.0                  67.0   0.9968  3.20       0.68   \n",
       "2                 15.0                  54.0   0.9970  3.26       0.65   \n",
       "3                 17.0                  60.0   0.9980  3.16       0.58   \n",
       "4                 11.0                  34.0   0.9978  3.51       0.56   \n",
       "\n",
       "   alcohol  quality  \n",
       "0      9.4        5  \n",
       "1      9.8        5  \n",
       "2      9.8        5  \n",
       "3      9.8        6  \n",
       "4      9.4        5  "
      ]
     },
     "execution_count": 4,
     "metadata": {},
     "output_type": "execute_result"
    }
   ],
   "source": [
    "df.head()"
   ]
  },
  {
   "cell_type": "code",
   "execution_count": 5,
   "id": "85b002f1",
   "metadata": {},
   "outputs": [
    {
     "data": {
      "text/plain": [
       "(1143, 12)"
      ]
     },
     "execution_count": 5,
     "metadata": {},
     "output_type": "execute_result"
    }
   ],
   "source": [
    "df.shape"
   ]
  },
  {
   "cell_type": "code",
   "execution_count": 6,
   "id": "19f5772d",
   "metadata": {},
   "outputs": [
    {
     "name": "stdout",
     "output_type": "stream",
     "text": [
      "<class 'pandas.core.frame.DataFrame'>\n",
      "RangeIndex: 1143 entries, 0 to 1142\n",
      "Data columns (total 12 columns):\n",
      " #   Column                Non-Null Count  Dtype  \n",
      "---  ------                --------------  -----  \n",
      " 0   fixed acidity         1143 non-null   float64\n",
      " 1   volatile acidity      1143 non-null   float64\n",
      " 2   citric acid           1143 non-null   float64\n",
      " 3   residual sugar        1143 non-null   float64\n",
      " 4   chlorides             1143 non-null   float64\n",
      " 5   free sulfur dioxide   1143 non-null   float64\n",
      " 6   total sulfur dioxide  1143 non-null   float64\n",
      " 7   density               1143 non-null   float64\n",
      " 8   pH                    1143 non-null   float64\n",
      " 9   sulphates             1143 non-null   float64\n",
      " 10  alcohol               1143 non-null   float64\n",
      " 11  quality               1143 non-null   int64  \n",
      "dtypes: float64(11), int64(1)\n",
      "memory usage: 107.3 KB\n"
     ]
    }
   ],
   "source": [
    "df.info()"
   ]
  },
  {
   "cell_type": "code",
   "execution_count": 7,
   "id": "3453d5ed",
   "metadata": {},
   "outputs": [
    {
     "data": {
      "text/plain": [
       "5    483\n",
       "6    462\n",
       "7    143\n",
       "4     33\n",
       "8     16\n",
       "3      6\n",
       "Name: quality, dtype: int64"
      ]
     },
     "execution_count": 7,
     "metadata": {},
     "output_type": "execute_result"
    }
   ],
   "source": [
    "df['quality'].value_counts()"
   ]
  },
  {
   "cell_type": "code",
   "execution_count": 8,
   "id": "f17e0a6c",
   "metadata": {},
   "outputs": [],
   "source": [
    "X = df.drop(columns=['quality'])\n",
    "y = df['quality']"
   ]
  },
  {
   "cell_type": "code",
   "execution_count": 9,
   "id": "098a33b3",
   "metadata": {},
   "outputs": [],
   "source": [
    "# Create a SMOTE instance\n",
    "smote = SMOTE(random_state=42)\n",
    "\n",
    "# Apply SMOTE to the training data\n",
    "X_sm, y_sm = smote.fit_resample(X, y)"
   ]
  },
  {
   "cell_type": "code",
   "execution_count": 10,
   "id": "03c15400",
   "metadata": {},
   "outputs": [
    {
     "data": {
      "text/plain": [
       "(2898,)"
      ]
     },
     "execution_count": 10,
     "metadata": {},
     "output_type": "execute_result"
    }
   ],
   "source": [
    "y_sm.shape"
   ]
  },
  {
   "cell_type": "code",
   "execution_count": 11,
   "id": "298859bf",
   "metadata": {},
   "outputs": [],
   "source": [
    "# Split data into train and test sets\n",
    "X_train, X_test, y_train, y_test = train_test_split(X_sm, y_sm, test_size=0.25, random_state=42)\n",
    "\n",
    "scaler = StandardScaler()\n",
    "X_train_scaled = scaler.fit_transform(X_train)\n",
    "X_test_scaled = scaler.transform(X_test)"
   ]
  },
  {
   "cell_type": "code",
   "execution_count": 21,
   "id": "719ae28f",
   "metadata": {},
   "outputs": [
    {
     "name": "stdout",
     "output_type": "stream",
     "text": [
      "91/91 [==============================] - 1s 2ms/step - loss: 1.8561 - sparse_categorical_accuracy: 0.1409\n",
      "23/23 [==============================] - 0s 1ms/step\n",
      "91/91 [==============================] - 1s 2ms/step - loss: 1.8697 - sparse_categorical_accuracy: 0.1974\n",
      "23/23 [==============================] - 0s 1ms/step\n",
      "91/91 [==============================] - 1s 2ms/step - loss: 1.9005 - sparse_categorical_accuracy: 0.1539\n",
      "23/23 [==============================] - 0s 972us/step\n",
      "12/12 [==============================] - 0s 2ms/step - loss: 1.6851 - categorical_accuracy: 0.2866\n",
      "23/23 [==============================] - 0s 1ms/step\n",
      "12/12 [==============================] - 0s 2ms/step - loss: 1.6746 - categorical_accuracy: 0.1470\n",
      "23/23 [==============================] - 0s 1ms/step\n",
      "12/12 [==============================] - 0s 2ms/step - loss: 1.7248 - categorical_accuracy: 0.1346\n",
      "23/23 [==============================] - 0s 1ms/step\n",
      "91/91 [==============================] - 1s 2ms/step - loss: 1.1196 - sparse_categorical_accuracy: 0.5083\n",
      "23/23 [==============================] - 0s 996us/step\n",
      "91/91 [==============================] - 1s 2ms/step - loss: 1.0832 - sparse_categorical_accuracy: 0.5666\n",
      "23/23 [==============================] - 0s 1ms/step\n",
      "91/91 [==============================] - 1s 2ms/step - loss: 1.1062 - sparse_categorical_accuracy: 0.5549\n",
      "23/23 [==============================] - 0s 1ms/step\n",
      "23/23 [==============================] - 0s 1ms/step - loss: 1.7355 - sparse_categorical_accuracy: 0.2555\n",
      "23/23 [==============================] - 0s 966us/step\n",
      "23/23 [==============================] - 0s 1ms/step - loss: 1.6999 - sparse_categorical_accuracy: 0.3216\n",
      "23/23 [==============================] - 0s 1ms/step\n",
      "23/23 [==============================] - 0s 1ms/step - loss: 1.9050 - sparse_categorical_accuracy: 0.1484\n",
      "23/23 [==============================] - 0s 1ms/step\n",
      "23/23 [==============================] - 0s 1ms/step - loss: 1.5712 - categorical_accuracy: 0.2320\n",
      "23/23 [==============================] - 0s 1ms/step\n",
      "23/23 [==============================] - 0s 1ms/step - loss: 1.4712 - categorical_accuracy: 0.3285\n",
      "23/23 [==============================] - 0s 991us/step\n",
      "23/23 [==============================] - 0s 1ms/step - loss: 1.4440 - categorical_accuracy: 0.2912\n",
      "23/23 [==============================] - 0s 1ms/step\n",
      "46/46 [==============================] - 0s 1ms/step - loss: 1.9241 - sparse_categorical_accuracy: 0.0953\n",
      "23/23 [==============================] - 0s 880us/step\n",
      "46/46 [==============================] - 0s 1ms/step - loss: 1.9353 - sparse_categorical_accuracy: 0.1484\n",
      "23/23 [==============================] - 0s 923us/step\n",
      "46/46 [==============================] - 1s 1ms/step - loss: 1.8422 - sparse_categorical_accuracy: 0.2001\n",
      "23/23 [==============================] - 0s 1ms/step\n",
      "12/12 [==============================] - 0s 2ms/step - loss: 1.8763 - sparse_categorical_accuracy: 0.1492\n",
      "23/23 [==============================] - 0s 1ms/step\n",
      "12/12 [==============================] - 0s 4ms/step - loss: 1.8662 - sparse_categorical_accuracy: 0.1767\n",
      "23/23 [==============================] - 0s 1ms/step\n",
      "12/12 [==============================] - 0s 3ms/step - loss: 1.8848 - sparse_categorical_accuracy: 0.1643\n",
      "23/23 [==============================] - 0s 1ms/step\n",
      "12/12 [==============================] - 0s 2ms/step - loss: 1.8165 - sparse_categorical_accuracy: 0.1278\n",
      "23/23 [==============================] - 0s 1ms/step\n",
      "12/12 [==============================] - 0s 2ms/step - loss: 1.7875 - sparse_categorical_accuracy: 0.1870\n",
      "23/23 [==============================] - 0s 965us/step\n",
      "12/12 [==============================] - 0s 2ms/step - loss: 1.8105 - sparse_categorical_accuracy: 0.0580\n",
      "23/23 [==============================] - 0s 936us/step\n",
      "136/136 [==============================] - 1s 2ms/step - loss: 1.0271 - sparse_categorical_accuracy: 0.5780\n",
      "Best Model Hyperparameters:\n",
      "{'optimizer': 'rmsprop', 'metrics': <keras.metrics.metrics.SparseCategoricalAccuracy object at 0x7fed094322d0>, 'layers': 3, 'hidden_units': 256, 'batch_size': 16, 'activation': 'relu', 'build_fn': <function build_classifier at 0x7fed093c89e0>}\n",
      "Best Accuracy: 0.6309201752714803\n"
     ]
    }
   ],
   "source": [
    "# Define the build function for the KerasClassifier\n",
    "def build_classifier(layers, hidden_units, activation, optimizer, metrics):\n",
    "    classifier = Sequential()\n",
    "    classifier.add(Dense(units=hidden_units, activation=activation, input_dim=X_train.shape[1]))\n",
    "    for _ in range(layers - 1):\n",
    "        classifier.add(Dense(units=hidden_units, activation=activation))\n",
    "    classifier.add(Dense(units=len(y.unique()), activation='softmax'))\n",
    "    classifier.compile(optimizer=optimizer, loss='sparse_categorical_crossentropy', metrics=metrics)\n",
    "    return classifier\n",
    "\n",
    "# Create a KerasClassifier with build_classifier function\n",
    "classifier = KerasClassifier(build_fn=build_classifier)\n",
    "\n",
    "# Define hyperparameters grid for GridSearchCV\n",
    "param_grid = {\n",
    "    'layers': [1, 2, 3],\n",
    "    'hidden_units': [16, 32, 64, 128, 256],\n",
    "    'activation': ['relu', 'sigmoid', 'tanh', 'linear'],\n",
    "    'batch_size': [16, 32, 64, 128, 256],\n",
    "    'optimizer': ['adam', 'sgd', 'adagrad', 'adadelta', 'rmsprop'],\n",
    "    'metrics' : [Accuracy(), CategoricalAccuracy(), SparseCategoricalAccuracy()]\n",
    "}\n",
    "\n",
    "# Perform grid search\n",
    "grid_search = RandomizedSearchCV(estimator=classifier, param_distributions=param_grid, scoring='accuracy', cv=3)\n",
    "grid_search = grid_search.fit(X_train_scaled, y_train)\n",
    "\n",
    "# Get the best model and its accuracy\n",
    "best_model = grid_search.best_estimator_\n",
    "best_accuracy = grid_search.best_score_\n",
    "\n",
    "print(\"Best Model Hyperparameters:\")\n",
    "print(best_model.get_params())\n",
    "print(\"Best Accuracy:\", best_accuracy)"
   ]
  },
  {
   "cell_type": "code",
   "execution_count": 22,
   "id": "cb0c4b7c",
   "metadata": {},
   "outputs": [
    {
     "name": "stdout",
     "output_type": "stream",
     "text": [
      "23/23 [==============================] - 0s 1ms/step\n",
      "Test Accuracy: 0.6537931034482759\n",
      "Feature Importance Ranking:\n",
      "fixed acidity: 0.2636304795742035\n",
      "volatile acidity: 0.4196866750717163\n",
      "citric acid: 0.44442009925842285\n",
      "residual sugar: 0.46308547258377075\n",
      "chlorides: 0.7414376139640808\n",
      "free sulfur dioxide: 0.631073534488678\n",
      "total sulfur dioxide: 0.4168376624584198\n",
      "density: 0.4321860671043396\n",
      "pH: 0.4619922637939453\n",
      "sulphates: 0.3559524714946747\n",
      "alcohol: 0.4613977074623108\n"
     ]
    }
   ],
   "source": [
    "# Evaluate the best model on the test set\n",
    "y_pred = best_model.predict(X_test_scaled)\n",
    "test_accuracy = accuracy_score(y_test, y_pred)\n",
    "print(\"Test Accuracy:\", test_accuracy)\n",
    "\n",
    "# Feature Importance Analysis:\n",
    "# For simplicity, feature weights are calculated from the final layer of the neural network.\n",
    "feature_weights = best_model.model.layers[-1].get_weights()[0]\n",
    "feature_importances = np.sum(np.abs(feature_weights), axis=1)\n",
    "sorted_features = np.argsort(feature_importances)[::-1]\n",
    "\n",
    "print(\"Feature Importance Ranking:\")\n",
    "for idx, feature_name in enumerate(X.columns):\n",
    "    print(f\"{feature_name}: {feature_importances[idx]}\")"
   ]
  }
 ],
 "metadata": {
  "kernelspec": {
   "display_name": "Python 3 (ipykernel)",
   "language": "python",
   "name": "python3"
  },
  "language_info": {
   "codemirror_mode": {
    "name": "ipython",
    "version": 3
   },
   "file_extension": ".py",
   "mimetype": "text/x-python",
   "name": "python",
   "nbconvert_exporter": "python",
   "pygments_lexer": "ipython3",
   "version": "3.7.13"
  }
 },
 "nbformat": 4,
 "nbformat_minor": 5
}
